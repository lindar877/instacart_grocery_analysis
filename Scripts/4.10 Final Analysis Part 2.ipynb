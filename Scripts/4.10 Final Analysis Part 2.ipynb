{
 "cells": [
  {
   "cell_type": "markdown",
   "id": "ce75f622",
   "metadata": {},
   "source": [
    "## Contents \n",
    "\n",
    "01. Customer Profile 1: Single young adults vs married adults\n",
    "02. Customer Profile 2: Adults with dependants ve adults without dependants \n"
   ]
  },
  {
   "cell_type": "code",
   "execution_count": 1,
   "id": "278755a7",
   "metadata": {},
   "outputs": [],
   "source": [
    "#import libraries \n",
    "\n",
    "import pandas as pd\n",
    "import numpy as np\n",
    "import os\n",
    "import matplotlib.pyplot as plt\n",
    "import seaborn as sns\n",
    "import scipy"
   ]
  },
  {
   "cell_type": "code",
   "execution_count": 2,
   "id": "6bff0048",
   "metadata": {},
   "outputs": [],
   "source": [
    "#import data\n",
    "\n",
    "path = r'/Users/lindazhang/Instacart Basket Analysis'\n",
    "high_activity_customers = pd.read_pickle(os.path.join(path, '02 Data', 'Prepared Data', 'orders_products_high_activity_customers.pkl'))\n"
   ]
  },
  {
   "cell_type": "markdown",
   "id": "61d16d7f",
   "metadata": {},
   "source": [
    "## Customer Profiling"
   ]
  },
  {
   "cell_type": "markdown",
   "id": "abf0f860",
   "metadata": {},
   "source": [
    "### Profile 1: \n",
    "\n",
    "Married adult: married, adult, 1+ dependants \n",
    "\n",
    "Single young adult: single, young adult, no dependants\n"
   ]
  },
  {
   "cell_type": "code",
   "execution_count": 3,
   "id": "a03c9fde",
   "metadata": {},
   "outputs": [],
   "source": [
    "# Create a flag for married adults/single young adults\n",
    "high_activity_customers.loc[(high_activity_customers['age_bracket'] == 'Young adult' ) & (high_activity_customers['n_dependants'] == 0) & (high_activity_customers['fam_status'] == 'single'), 'profile'] = 'single young adult'\n",
    "high_activity_customers.loc[(high_activity_customers['age_bracket'] == 'Adult' ) & (high_activity_customers['n_dependants'] > 0) & (high_activity_customers['fam_status'] == 'married'), 'profile'] = 'married adult'"
   ]
  },
  {
   "cell_type": "code",
   "execution_count": 4,
   "id": "207ea7cc",
   "metadata": {},
   "outputs": [
    {
     "data": {
      "text/plain": [
       "married adult         13778022\n",
       "single young adult     1070158\n",
       "Name: profile, dtype: int64"
      ]
     },
     "execution_count": 4,
     "metadata": {},
     "output_type": "execute_result"
    }
   ],
   "source": [
    "# checking counts of customer profiles\n",
    "\n",
    "high_activity_customers['profile'].value_counts()"
   ]
  },
  {
   "cell_type": "code",
   "execution_count": 5,
   "id": "7963174e",
   "metadata": {
    "scrolled": true
   },
   "outputs": [
    {
     "data": {
      "text/plain": [
       "order_id                                0\n",
       "customer_id                             0\n",
       "order_number                            0\n",
       "orders_day_of_week                      0\n",
       "order_hour_of_day                       0\n",
       "days_since_prior_order            1662805\n",
       "product_id                              0\n",
       "product_name                            0\n",
       "department_id                           0\n",
       "prices                                  0\n",
       "price_range                             0\n",
       "busiest_day                             0\n",
       "busiest_days                            0\n",
       "period_of_day                           0\n",
       "busiest_periods                         0\n",
       "max_order                               0\n",
       "loyalty_flag                            0\n",
       "mean_spend                              0\n",
       "spend_flag                              0\n",
       "median_days_since_prior_order           0\n",
       "customer_frequency                      0\n",
       "Gender                                  0\n",
       "STATE                                   0\n",
       "Age                                     0\n",
       "n_dependants                            0\n",
       "fam_status                              0\n",
       "income                                  0\n",
       "department                              0\n",
       "region                                  0\n",
       "age_bracket                             0\n",
       "profile                          16143362\n",
       "dtype: int64"
      ]
     },
     "execution_count": 5,
     "metadata": {},
     "output_type": "execute_result"
    }
   ],
   "source": [
    "# checking how many customers are not married adults or single young adults\n",
    "\n",
    "high_activity_customers.isnull().sum()"
   ]
  },
  {
   "cell_type": "code",
   "execution_count": 6,
   "id": "a793dbbe",
   "metadata": {},
   "outputs": [
    {
     "data": {
      "text/html": [
       "<div>\n",
       "<style scoped>\n",
       "    .dataframe tbody tr th:only-of-type {\n",
       "        vertical-align: middle;\n",
       "    }\n",
       "\n",
       "    .dataframe tbody tr th {\n",
       "        vertical-align: top;\n",
       "    }\n",
       "\n",
       "    .dataframe thead tr th {\n",
       "        text-align: left;\n",
       "    }\n",
       "\n",
       "    .dataframe thead tr:last-of-type th {\n",
       "        text-align: right;\n",
       "    }\n",
       "</style>\n",
       "<table border=\"1\" class=\"dataframe\">\n",
       "  <thead>\n",
       "    <tr>\n",
       "      <th></th>\n",
       "      <th colspan=\"3\" halign=\"left\">median_days_since_prior_order</th>\n",
       "    </tr>\n",
       "    <tr>\n",
       "      <th></th>\n",
       "      <th>mean</th>\n",
       "      <th>min</th>\n",
       "      <th>max</th>\n",
       "    </tr>\n",
       "    <tr>\n",
       "      <th>profile</th>\n",
       "      <th></th>\n",
       "      <th></th>\n",
       "      <th></th>\n",
       "    </tr>\n",
       "  </thead>\n",
       "  <tbody>\n",
       "    <tr>\n",
       "      <th>married adult</th>\n",
       "      <td>9.995773</td>\n",
       "      <td>0.0</td>\n",
       "      <td>30.0</td>\n",
       "    </tr>\n",
       "    <tr>\n",
       "      <th>single young adult</th>\n",
       "      <td>10.186044</td>\n",
       "      <td>0.0</td>\n",
       "      <td>30.0</td>\n",
       "    </tr>\n",
       "  </tbody>\n",
       "</table>\n",
       "</div>"
      ],
      "text/plain": [
       "                   median_days_since_prior_order           \n",
       "                                            mean  min   max\n",
       "profile                                                    \n",
       "married adult                           9.995773  0.0  30.0\n",
       "single young adult                     10.186044  0.0  30.0"
      ]
     },
     "execution_count": 6,
     "metadata": {},
     "output_type": "execute_result"
    }
   ],
   "source": [
    "# getting the median_days_since_prior_order for single young adults versus married adults\n",
    "\n",
    "profile_median_days_since_prior_order = high_activity_customers.groupby('profile').agg({'median_days_since_prior_order': ['mean', 'min', 'max']})\n",
    "profile_median_days_since_prior_order"
   ]
  },
  {
   "cell_type": "code",
   "execution_count": 7,
   "id": "38504ec3",
   "metadata": {},
   "outputs": [],
   "source": [
    "profile_median_days_since_prior_order.to_clipboard()"
   ]
  },
  {
   "cell_type": "code",
   "execution_count": 8,
   "id": "49e83d72",
   "metadata": {
    "scrolled": true
   },
   "outputs": [
    {
     "data": {
      "text/html": [
       "<div>\n",
       "<style scoped>\n",
       "    .dataframe tbody tr th:only-of-type {\n",
       "        vertical-align: middle;\n",
       "    }\n",
       "\n",
       "    .dataframe tbody tr th {\n",
       "        vertical-align: top;\n",
       "    }\n",
       "\n",
       "    .dataframe thead tr th {\n",
       "        text-align: left;\n",
       "    }\n",
       "\n",
       "    .dataframe thead tr:last-of-type th {\n",
       "        text-align: right;\n",
       "    }\n",
       "</style>\n",
       "<table border=\"1\" class=\"dataframe\">\n",
       "  <thead>\n",
       "    <tr>\n",
       "      <th></th>\n",
       "      <th colspan=\"3\" halign=\"left\">prices</th>\n",
       "    </tr>\n",
       "    <tr>\n",
       "      <th></th>\n",
       "      <th>mean</th>\n",
       "      <th>min</th>\n",
       "      <th>max</th>\n",
       "    </tr>\n",
       "    <tr>\n",
       "      <th>profile</th>\n",
       "      <th></th>\n",
       "      <th></th>\n",
       "      <th></th>\n",
       "    </tr>\n",
       "  </thead>\n",
       "  <tbody>\n",
       "    <tr>\n",
       "      <th>married adult</th>\n",
       "      <td>11.973203</td>\n",
       "      <td>1.0</td>\n",
       "      <td>99999.0</td>\n",
       "    </tr>\n",
       "    <tr>\n",
       "      <th>single young adult</th>\n",
       "      <td>13.093726</td>\n",
       "      <td>1.0</td>\n",
       "      <td>99999.0</td>\n",
       "    </tr>\n",
       "  </tbody>\n",
       "</table>\n",
       "</div>"
      ],
      "text/plain": [
       "                       prices              \n",
       "                         mean  min      max\n",
       "profile                                    \n",
       "married adult       11.973203  1.0  99999.0\n",
       "single young adult  13.093726  1.0  99999.0"
      ]
     },
     "execution_count": 8,
     "metadata": {},
     "output_type": "execute_result"
    }
   ],
   "source": [
    "# getting the mean price spent on orders for single young adults versus married adults\n",
    "\n",
    "profile_prices = high_activity_customers.groupby('profile').agg({'prices': ['mean', 'min', 'max']})\n",
    "profile_prices"
   ]
  },
  {
   "cell_type": "code",
   "execution_count": 9,
   "id": "1ca4acc5",
   "metadata": {},
   "outputs": [],
   "source": [
    "profile_prices.to_clipboard()"
   ]
  },
  {
   "cell_type": "code",
   "execution_count": 10,
   "id": "c5a72d42",
   "metadata": {},
   "outputs": [
    {
     "data": {
      "text/html": [
       "<div>\n",
       "<style scoped>\n",
       "    .dataframe tbody tr th:only-of-type {\n",
       "        vertical-align: middle;\n",
       "    }\n",
       "\n",
       "    .dataframe tbody tr th {\n",
       "        vertical-align: top;\n",
       "    }\n",
       "\n",
       "    .dataframe thead th {\n",
       "        text-align: right;\n",
       "    }\n",
       "</style>\n",
       "<table border=\"1\" class=\"dataframe\">\n",
       "  <thead>\n",
       "    <tr style=\"text-align: right;\">\n",
       "      <th>region</th>\n",
       "      <th>Midwest</th>\n",
       "      <th>Northeast</th>\n",
       "      <th>South</th>\n",
       "      <th>West</th>\n",
       "    </tr>\n",
       "    <tr>\n",
       "      <th>profile</th>\n",
       "      <th></th>\n",
       "      <th></th>\n",
       "      <th></th>\n",
       "      <th></th>\n",
       "    </tr>\n",
       "  </thead>\n",
       "  <tbody>\n",
       "    <tr>\n",
       "      <th>married adult</th>\n",
       "      <td>3242220</td>\n",
       "      <td>2436549</td>\n",
       "      <td>4565660</td>\n",
       "      <td>3533593</td>\n",
       "    </tr>\n",
       "    <tr>\n",
       "      <th>single young adult</th>\n",
       "      <td>238637</td>\n",
       "      <td>194109</td>\n",
       "      <td>373699</td>\n",
       "      <td>263713</td>\n",
       "    </tr>\n",
       "  </tbody>\n",
       "</table>\n",
       "</div>"
      ],
      "text/plain": [
       "region              Midwest  Northeast    South     West\n",
       "profile                                                 \n",
       "married adult       3242220    2436549  4565660  3533593\n",
       "single young adult   238637     194109   373699   263713"
      ]
     },
     "execution_count": 10,
     "metadata": {},
     "output_type": "execute_result"
    }
   ],
   "source": [
    "# getting the regional counts of orders by single young adults versus married adults\n",
    "\n",
    "profile_region_crosstab = pd.crosstab(high_activity_customers['profile'], high_activity_customers['region'], dropna = False)\n",
    "profile_region_crosstab"
   ]
  },
  {
   "cell_type": "code",
   "execution_count": 11,
   "id": "6bfaaf45",
   "metadata": {
    "scrolled": false
   },
   "outputs": [
    {
     "data": {
      "image/png": "[encoded data removed]",
      "text/plain": [
       "<Figure size 432x288 with 1 Axes>"
      ]
     },
     "metadata": {
      "needs_background": "light"
     },
     "output_type": "display_data"
    }
   ],
   "source": [
    "# making a stacked bar graph of region counts of orders by single adults versus married adults\n",
    "\n",
    "profile_region_bar= high_activity_customers.groupby('region')['profile'].value_counts().sort_values(ascending=False).unstack().plot.bar(\n",
    "    stacked=True,ylabel='counts',color=['#43b02a','#ff8200'])"
   ]
  },
  {
   "cell_type": "code",
   "execution_count": 12,
   "id": "3f3229de",
   "metadata": {},
   "outputs": [],
   "source": [
    "profile_region_bar. figure.savefig(os.path.join(path, '04 Analysis','Visualizations', 'stacked_bar_profile_region.png'))"
   ]
  },
  {
   "cell_type": "code",
   "execution_count": 13,
   "id": "faca0bc4",
   "metadata": {},
   "outputs": [
    {
     "data": {
      "text/html": [
       "<div>\n",
       "<style scoped>\n",
       "    .dataframe tbody tr th:only-of-type {\n",
       "        vertical-align: middle;\n",
       "    }\n",
       "\n",
       "    .dataframe tbody tr th {\n",
       "        vertical-align: top;\n",
       "    }\n",
       "\n",
       "    .dataframe thead th {\n",
       "        text-align: right;\n",
       "    }\n",
       "</style>\n",
       "<table border=\"1\" class=\"dataframe\">\n",
       "  <thead>\n",
       "    <tr style=\"text-align: right;\">\n",
       "      <th>profile</th>\n",
       "      <th>married adult</th>\n",
       "      <th>single young adult</th>\n",
       "    </tr>\n",
       "    <tr>\n",
       "      <th>department</th>\n",
       "      <th></th>\n",
       "      <th></th>\n",
       "    </tr>\n",
       "  </thead>\n",
       "  <tbody>\n",
       "    <tr>\n",
       "      <th>alcohol</th>\n",
       "      <td>63625</td>\n",
       "      <td>5070</td>\n",
       "    </tr>\n",
       "    <tr>\n",
       "      <th>babies</th>\n",
       "      <td>182764</td>\n",
       "      <td>14831</td>\n",
       "    </tr>\n",
       "    <tr>\n",
       "      <th>bakery</th>\n",
       "      <td>498555</td>\n",
       "      <td>38866</td>\n",
       "    </tr>\n",
       "    <tr>\n",
       "      <th>beverages</th>\n",
       "      <td>1142025</td>\n",
       "      <td>89809</td>\n",
       "    </tr>\n",
       "    <tr>\n",
       "      <th>breakfast</th>\n",
       "      <td>301258</td>\n",
       "      <td>23117</td>\n",
       "    </tr>\n",
       "    <tr>\n",
       "      <th>bulk</th>\n",
       "      <td>14907</td>\n",
       "      <td>1138</td>\n",
       "    </tr>\n",
       "    <tr>\n",
       "      <th>canned goods</th>\n",
       "      <td>450297</td>\n",
       "      <td>34824</td>\n",
       "    </tr>\n",
       "    <tr>\n",
       "      <th>dairy eggs</th>\n",
       "      <td>2305820</td>\n",
       "      <td>177811</td>\n",
       "    </tr>\n",
       "    <tr>\n",
       "      <th>deli</th>\n",
       "      <td>444090</td>\n",
       "      <td>34511</td>\n",
       "    </tr>\n",
       "    <tr>\n",
       "      <th>dry goods pasta</th>\n",
       "      <td>365759</td>\n",
       "      <td>28668</td>\n",
       "    </tr>\n",
       "    <tr>\n",
       "      <th>frozen</th>\n",
       "      <td>944099</td>\n",
       "      <td>71688</td>\n",
       "    </tr>\n",
       "    <tr>\n",
       "      <th>household</th>\n",
       "      <td>312990</td>\n",
       "      <td>23525</td>\n",
       "    </tr>\n",
       "    <tr>\n",
       "      <th>international</th>\n",
       "      <td>113571</td>\n",
       "      <td>9250</td>\n",
       "    </tr>\n",
       "    <tr>\n",
       "      <th>meat seafood</th>\n",
       "      <td>300182</td>\n",
       "      <td>23023</td>\n",
       "    </tr>\n",
       "    <tr>\n",
       "      <th>missing</th>\n",
       "      <td>28822</td>\n",
       "      <td>2367</td>\n",
       "    </tr>\n",
       "    <tr>\n",
       "      <th>other</th>\n",
       "      <td>15058</td>\n",
       "      <td>1193</td>\n",
       "    </tr>\n",
       "    <tr>\n",
       "      <th>pantry</th>\n",
       "      <td>793127</td>\n",
       "      <td>61342</td>\n",
       "    </tr>\n",
       "    <tr>\n",
       "      <th>personal care</th>\n",
       "      <td>190431</td>\n",
       "      <td>14973</td>\n",
       "    </tr>\n",
       "    <tr>\n",
       "      <th>pets</th>\n",
       "      <td>40401</td>\n",
       "      <td>3324</td>\n",
       "    </tr>\n",
       "    <tr>\n",
       "      <th>produce</th>\n",
       "      <td>4035540</td>\n",
       "      <td>315186</td>\n",
       "    </tr>\n",
       "    <tr>\n",
       "      <th>snacks</th>\n",
       "      <td>1234701</td>\n",
       "      <td>95642</td>\n",
       "    </tr>\n",
       "  </tbody>\n",
       "</table>\n",
       "</div>"
      ],
      "text/plain": [
       "profile          married adult  single young adult\n",
       "department                                        \n",
       "alcohol                  63625                5070\n",
       "babies                  182764               14831\n",
       "bakery                  498555               38866\n",
       "beverages              1142025               89809\n",
       "breakfast               301258               23117\n",
       "bulk                     14907                1138\n",
       "canned goods            450297               34824\n",
       "dairy eggs             2305820              177811\n",
       "deli                    444090               34511\n",
       "dry goods pasta         365759               28668\n",
       "frozen                  944099               71688\n",
       "household               312990               23525\n",
       "international           113571                9250\n",
       "meat seafood            300182               23023\n",
       "missing                  28822                2367\n",
       "other                    15058                1193\n",
       "pantry                  793127               61342\n",
       "personal care           190431               14973\n",
       "pets                     40401                3324\n",
       "produce                4035540              315186\n",
       "snacks                 1234701               95642"
      ]
     },
     "execution_count": 13,
     "metadata": {},
     "output_type": "execute_result"
    }
   ],
   "source": [
    "# getting the order counts by department for single adults versus married adults\n",
    "\n",
    "profile_department_crosstab = pd.crosstab(high_activity_customers['department'], high_activity_customers['profile'], dropna = False)\n",
    "profile_department_crosstab"
   ]
  },
  {
   "cell_type": "code",
   "execution_count": 14,
   "id": "f3ae9cd6",
   "metadata": {
    "scrolled": true
   },
   "outputs": [
    {
     "data": {
      "image/png": "[encoded data removed]",
      "text/plain": [
       "<Figure size 432x288 with 1 Axes>"
      ]
     },
     "metadata": {
      "needs_background": "light"
     },
     "output_type": "display_data"
    }
   ],
   "source": [
    "# making a bar graph of order counts by department for single adults versus married adults\n",
    "\n",
    "profile_department_bar = profile_department_crosstab.plot(kind='barh')\n"
   ]
  },
  {
   "cell_type": "code",
   "execution_count": 15,
   "id": "eb487af8",
   "metadata": {},
   "outputs": [],
   "source": [
    "profile_department_bar.figure.savefig(os.path.join(path, '04 Analysis','Visualizations', 'profile_department_bar.png'))"
   ]
  },
  {
   "cell_type": "code",
   "execution_count": 16,
   "id": "daf7e1af",
   "metadata": {},
   "outputs": [],
   "source": [
    "profile_department_crosstab.to_clipboard()"
   ]
  },
  {
   "cell_type": "markdown",
   "id": "7c871fda",
   "metadata": {},
   "source": [
    "### Profile 2: \n",
    "\n",
    "Adult with no dependants (age = 27-64, n_dependants = 0)\n",
    "\n",
    "Adult with dependants (age = 27 - 64, n_dependants = 1+)"
   ]
  },
  {
   "cell_type": "code",
   "execution_count": 17,
   "id": "1e98ab3d",
   "metadata": {},
   "outputs": [],
   "source": [
    "# Create a flag for adults with dependants and without dependants\n",
    "high_activity_customers.loc[(high_activity_customers['age_bracket'] == 'Adult' ) & (high_activity_customers['n_dependants'] == 0), 'profile_1'] = 'Adult, no dependants'\n",
    "high_activity_customers.loc[(high_activity_customers['age_bracket'] == 'Adult' ) & (high_activity_customers['n_dependants'] > 0), 'profile_1'] = 'Adult, with dependants'"
   ]
  },
  {
   "cell_type": "code",
   "execution_count": 18,
   "id": "44470eec",
   "metadata": {},
   "outputs": [
    {
     "data": {
      "text/plain": [
       "Adult, with dependants    13778022\n",
       "Adult, no dependants       4652695\n",
       "Name: profile_1, dtype: int64"
      ]
     },
     "execution_count": 18,
     "metadata": {},
     "output_type": "execute_result"
    }
   ],
   "source": [
    "# checking counts of customer profiles\n",
    "\n",
    "high_activity_customers['profile_1'].value_counts()"
   ]
  },
  {
   "cell_type": "code",
   "execution_count": 19,
   "id": "8f88a34b",
   "metadata": {},
   "outputs": [
    {
     "data": {
      "text/plain": [
       "order_id                                0\n",
       "customer_id                             0\n",
       "order_number                            0\n",
       "orders_day_of_week                      0\n",
       "order_hour_of_day                       0\n",
       "days_since_prior_order            1662805\n",
       "product_id                              0\n",
       "product_name                            0\n",
       "department_id                           0\n",
       "prices                                  0\n",
       "price_range                             0\n",
       "busiest_day                             0\n",
       "busiest_days                            0\n",
       "period_of_day                           0\n",
       "busiest_periods                         0\n",
       "max_order                               0\n",
       "loyalty_flag                            0\n",
       "mean_spend                              0\n",
       "spend_flag                              0\n",
       "median_days_since_prior_order           0\n",
       "customer_frequency                      0\n",
       "Gender                                  0\n",
       "STATE                                   0\n",
       "Age                                     0\n",
       "n_dependants                            0\n",
       "fam_status                              0\n",
       "income                                  0\n",
       "department                              0\n",
       "region                                  0\n",
       "age_bracket                             0\n",
       "profile                          16143362\n",
       "profile_1                        12560825\n",
       "dtype: int64"
      ]
     },
     "execution_count": 19,
     "metadata": {},
     "output_type": "execute_result"
    }
   ],
   "source": [
    "# checking how many customers are not adults with or without dependants\n",
    "\n",
    "high_activity_customers.isnull().sum()"
   ]
  },
  {
   "cell_type": "code",
   "execution_count": 20,
   "id": "f1b259e5",
   "metadata": {},
   "outputs": [
    {
     "data": {
      "text/html": [
       "<div>\n",
       "<style scoped>\n",
       "    .dataframe tbody tr th:only-of-type {\n",
       "        vertical-align: middle;\n",
       "    }\n",
       "\n",
       "    .dataframe tbody tr th {\n",
       "        vertical-align: top;\n",
       "    }\n",
       "\n",
       "    .dataframe thead tr th {\n",
       "        text-align: left;\n",
       "    }\n",
       "\n",
       "    .dataframe thead tr:last-of-type th {\n",
       "        text-align: right;\n",
       "    }\n",
       "</style>\n",
       "<table border=\"1\" class=\"dataframe\">\n",
       "  <thead>\n",
       "    <tr>\n",
       "      <th></th>\n",
       "      <th colspan=\"3\" halign=\"left\">median_days_since_prior_order</th>\n",
       "    </tr>\n",
       "    <tr>\n",
       "      <th></th>\n",
       "      <th>mean</th>\n",
       "      <th>min</th>\n",
       "      <th>max</th>\n",
       "    </tr>\n",
       "    <tr>\n",
       "      <th>profile_1</th>\n",
       "      <th></th>\n",
       "      <th></th>\n",
       "      <th></th>\n",
       "    </tr>\n",
       "  </thead>\n",
       "  <tbody>\n",
       "    <tr>\n",
       "      <th>Adult, no dependants</th>\n",
       "      <td>9.898238</td>\n",
       "      <td>0.0</td>\n",
       "      <td>30.0</td>\n",
       "    </tr>\n",
       "    <tr>\n",
       "      <th>Adult, with dependants</th>\n",
       "      <td>9.995773</td>\n",
       "      <td>0.0</td>\n",
       "      <td>30.0</td>\n",
       "    </tr>\n",
       "  </tbody>\n",
       "</table>\n",
       "</div>"
      ],
      "text/plain": [
       "                       median_days_since_prior_order           \n",
       "                                                mean  min   max\n",
       "profile_1                                                      \n",
       "Adult, no dependants                        9.898238  0.0  30.0\n",
       "Adult, with dependants                      9.995773  0.0  30.0"
      ]
     },
     "execution_count": 20,
     "metadata": {},
     "output_type": "execute_result"
    }
   ],
   "source": [
    "# getting the median_days_since_prior_order for adults with dependants and adults without dependants\n",
    "\n",
    "profile_1_median_days_since_prior_order = high_activity_customers.groupby('profile_1').agg({'median_days_since_prior_order': ['mean', 'min', 'max']})\n",
    "profile_1_median_days_since_prior_order"
   ]
  },
  {
   "cell_type": "code",
   "execution_count": 21,
   "id": "24f9291b",
   "metadata": {},
   "outputs": [
    {
     "data": {
      "text/html": [
       "<div>\n",
       "<style scoped>\n",
       "    .dataframe tbody tr th:only-of-type {\n",
       "        vertical-align: middle;\n",
       "    }\n",
       "\n",
       "    .dataframe tbody tr th {\n",
       "        vertical-align: top;\n",
       "    }\n",
       "\n",
       "    .dataframe thead tr th {\n",
       "        text-align: left;\n",
       "    }\n",
       "\n",
       "    .dataframe thead tr:last-of-type th {\n",
       "        text-align: right;\n",
       "    }\n",
       "</style>\n",
       "<table border=\"1\" class=\"dataframe\">\n",
       "  <thead>\n",
       "    <tr>\n",
       "      <th></th>\n",
       "      <th colspan=\"3\" halign=\"left\">prices</th>\n",
       "    </tr>\n",
       "    <tr>\n",
       "      <th></th>\n",
       "      <th>mean</th>\n",
       "      <th>min</th>\n",
       "      <th>max</th>\n",
       "    </tr>\n",
       "    <tr>\n",
       "      <th>profile_1</th>\n",
       "      <th></th>\n",
       "      <th></th>\n",
       "      <th></th>\n",
       "    </tr>\n",
       "  </thead>\n",
       "  <tbody>\n",
       "    <tr>\n",
       "      <th>Adult, no dependants</th>\n",
       "      <td>11.916794</td>\n",
       "      <td>1.0</td>\n",
       "      <td>99999.0</td>\n",
       "    </tr>\n",
       "    <tr>\n",
       "      <th>Adult, with dependants</th>\n",
       "      <td>11.973203</td>\n",
       "      <td>1.0</td>\n",
       "      <td>99999.0</td>\n",
       "    </tr>\n",
       "  </tbody>\n",
       "</table>\n",
       "</div>"
      ],
      "text/plain": [
       "                           prices              \n",
       "                             mean  min      max\n",
       "profile_1                                      \n",
       "Adult, no dependants    11.916794  1.0  99999.0\n",
       "Adult, with dependants  11.973203  1.0  99999.0"
      ]
     },
     "execution_count": 21,
     "metadata": {},
     "output_type": "execute_result"
    }
   ],
   "source": [
    "# getting the mean price spent on orders for adults with dependants and adults without dependants\n",
    "\n",
    "profile_1_prices = high_activity_customers.groupby('profile_1').agg({'prices': ['mean', 'min', 'max']})\n",
    "profile_1_prices"
   ]
  },
  {
   "cell_type": "code",
   "execution_count": 22,
   "id": "9f4b85af",
   "metadata": {},
   "outputs": [
    {
     "data": {
      "text/html": [
       "<div>\n",
       "<style scoped>\n",
       "    .dataframe tbody tr th:only-of-type {\n",
       "        vertical-align: middle;\n",
       "    }\n",
       "\n",
       "    .dataframe tbody tr th {\n",
       "        vertical-align: top;\n",
       "    }\n",
       "\n",
       "    .dataframe thead th {\n",
       "        text-align: right;\n",
       "    }\n",
       "</style>\n",
       "<table border=\"1\" class=\"dataframe\">\n",
       "  <thead>\n",
       "    <tr style=\"text-align: right;\">\n",
       "      <th>region</th>\n",
       "      <th>Midwest</th>\n",
       "      <th>Northeast</th>\n",
       "      <th>South</th>\n",
       "      <th>West</th>\n",
       "    </tr>\n",
       "    <tr>\n",
       "      <th>profile_1</th>\n",
       "      <th></th>\n",
       "      <th></th>\n",
       "      <th></th>\n",
       "      <th></th>\n",
       "    </tr>\n",
       "  </thead>\n",
       "  <tbody>\n",
       "    <tr>\n",
       "      <th>Adult, no dependants</th>\n",
       "      <td>1115315</td>\n",
       "      <td>782436</td>\n",
       "      <td>1552284</td>\n",
       "      <td>1202660</td>\n",
       "    </tr>\n",
       "    <tr>\n",
       "      <th>Adult, with dependants</th>\n",
       "      <td>3242220</td>\n",
       "      <td>2436549</td>\n",
       "      <td>4565660</td>\n",
       "      <td>3533593</td>\n",
       "    </tr>\n",
       "  </tbody>\n",
       "</table>\n",
       "</div>"
      ],
      "text/plain": [
       "region                  Midwest  Northeast    South     West\n",
       "profile_1                                                   \n",
       "Adult, no dependants    1115315     782436  1552284  1202660\n",
       "Adult, with dependants  3242220    2436549  4565660  3533593"
      ]
     },
     "execution_count": 22,
     "metadata": {},
     "output_type": "execute_result"
    }
   ],
   "source": [
    "# getting the regional counts of orders by adults with dependants and adults without dependants\n",
    "\n",
    "profile_1_region_crosstab = pd.crosstab(high_activity_customers['profile_1'], high_activity_customers['region'], dropna = False)\n",
    "profile_1_region_crosstab"
   ]
  },
  {
   "cell_type": "code",
   "execution_count": 23,
   "id": "ccbc8281",
   "metadata": {},
   "outputs": [
    {
     "data": {
      "image/png": "[encoded data removed]",
      "text/plain": [
       "<Figure size 432x288 with 1 Axes>"
      ]
     },
     "metadata": {
      "needs_background": "light"
     },
     "output_type": "display_data"
    }
   ],
   "source": [
    "# making a stacked bar graph of region counts of orders by adults with dependants and adults without dependants\n",
    "\n",
    "profile_1_region_bar= high_activity_customers.groupby('region')['profile_1'].value_counts().sort_values(ascending=False).unstack().plot.bar(\n",
    "    stacked=True,ylabel='counts',color=['#ff8200','#43b02a',])"
   ]
  },
  {
   "cell_type": "code",
   "execution_count": 24,
   "id": "d47dd956",
   "metadata": {},
   "outputs": [],
   "source": [
    "profile_1_region_bar. figure.savefig(os.path.join(path, '04 Analysis','Visualizations', 'stacked_bar_profile_1_region.png'))"
   ]
  },
  {
   "cell_type": "code",
   "execution_count": 25,
   "id": "b04463b2",
   "metadata": {
    "scrolled": true
   },
   "outputs": [
    {
     "data": {
      "text/html": [
       "<div>\n",
       "<style scoped>\n",
       "    .dataframe tbody tr th:only-of-type {\n",
       "        vertical-align: middle;\n",
       "    }\n",
       "\n",
       "    .dataframe tbody tr th {\n",
       "        vertical-align: top;\n",
       "    }\n",
       "\n",
       "    .dataframe thead th {\n",
       "        text-align: right;\n",
       "    }\n",
       "</style>\n",
       "<table border=\"1\" class=\"dataframe\">\n",
       "  <thead>\n",
       "    <tr style=\"text-align: right;\">\n",
       "      <th>profile_1</th>\n",
       "      <th>Adult, no dependants</th>\n",
       "      <th>Adult, with dependants</th>\n",
       "    </tr>\n",
       "    <tr>\n",
       "      <th>department</th>\n",
       "      <th></th>\n",
       "      <th></th>\n",
       "    </tr>\n",
       "  </thead>\n",
       "  <tbody>\n",
       "    <tr>\n",
       "      <th>alcohol</th>\n",
       "      <td>22618</td>\n",
       "      <td>63625</td>\n",
       "    </tr>\n",
       "    <tr>\n",
       "      <th>babies</th>\n",
       "      <td>62605</td>\n",
       "      <td>182764</td>\n",
       "    </tr>\n",
       "    <tr>\n",
       "      <th>bakery</th>\n",
       "      <td>170978</td>\n",
       "      <td>498555</td>\n",
       "    </tr>\n",
       "    <tr>\n",
       "      <th>beverages</th>\n",
       "      <td>386897</td>\n",
       "      <td>1142025</td>\n",
       "    </tr>\n",
       "    <tr>\n",
       "      <th>breakfast</th>\n",
       "      <td>102013</td>\n",
       "      <td>301258</td>\n",
       "    </tr>\n",
       "    <tr>\n",
       "      <th>bulk</th>\n",
       "      <td>4768</td>\n",
       "      <td>14907</td>\n",
       "    </tr>\n",
       "    <tr>\n",
       "      <th>canned goods</th>\n",
       "      <td>151453</td>\n",
       "      <td>450297</td>\n",
       "    </tr>\n",
       "    <tr>\n",
       "      <th>dairy eggs</th>\n",
       "      <td>780461</td>\n",
       "      <td>2305820</td>\n",
       "    </tr>\n",
       "    <tr>\n",
       "      <th>deli</th>\n",
       "      <td>153503</td>\n",
       "      <td>444090</td>\n",
       "    </tr>\n",
       "    <tr>\n",
       "      <th>dry goods pasta</th>\n",
       "      <td>122332</td>\n",
       "      <td>365759</td>\n",
       "    </tr>\n",
       "    <tr>\n",
       "      <th>frozen</th>\n",
       "      <td>316875</td>\n",
       "      <td>944099</td>\n",
       "    </tr>\n",
       "    <tr>\n",
       "      <th>household</th>\n",
       "      <td>102819</td>\n",
       "      <td>312990</td>\n",
       "    </tr>\n",
       "    <tr>\n",
       "      <th>international</th>\n",
       "      <td>38698</td>\n",
       "      <td>113571</td>\n",
       "    </tr>\n",
       "    <tr>\n",
       "      <th>meat seafood</th>\n",
       "      <td>98524</td>\n",
       "      <td>300182</td>\n",
       "    </tr>\n",
       "    <tr>\n",
       "      <th>missing</th>\n",
       "      <td>9585</td>\n",
       "      <td>28822</td>\n",
       "    </tr>\n",
       "    <tr>\n",
       "      <th>other</th>\n",
       "      <td>5366</td>\n",
       "      <td>15058</td>\n",
       "    </tr>\n",
       "    <tr>\n",
       "      <th>pantry</th>\n",
       "      <td>266878</td>\n",
       "      <td>793127</td>\n",
       "    </tr>\n",
       "    <tr>\n",
       "      <th>personal care</th>\n",
       "      <td>63146</td>\n",
       "      <td>190431</td>\n",
       "    </tr>\n",
       "    <tr>\n",
       "      <th>pets</th>\n",
       "      <td>13512</td>\n",
       "      <td>40401</td>\n",
       "    </tr>\n",
       "    <tr>\n",
       "      <th>produce</th>\n",
       "      <td>1365164</td>\n",
       "      <td>4035540</td>\n",
       "    </tr>\n",
       "    <tr>\n",
       "      <th>snacks</th>\n",
       "      <td>414500</td>\n",
       "      <td>1234701</td>\n",
       "    </tr>\n",
       "  </tbody>\n",
       "</table>\n",
       "</div>"
      ],
      "text/plain": [
       "profile_1        Adult, no dependants  Adult, with dependants\n",
       "department                                                   \n",
       "alcohol                         22618                   63625\n",
       "babies                          62605                  182764\n",
       "bakery                         170978                  498555\n",
       "beverages                      386897                 1142025\n",
       "breakfast                      102013                  301258\n",
       "bulk                             4768                   14907\n",
       "canned goods                   151453                  450297\n",
       "dairy eggs                     780461                 2305820\n",
       "deli                           153503                  444090\n",
       "dry goods pasta                122332                  365759\n",
       "frozen                         316875                  944099\n",
       "household                      102819                  312990\n",
       "international                   38698                  113571\n",
       "meat seafood                    98524                  300182\n",
       "missing                          9585                   28822\n",
       "other                            5366                   15058\n",
       "pantry                         266878                  793127\n",
       "personal care                   63146                  190431\n",
       "pets                            13512                   40401\n",
       "produce                       1365164                 4035540\n",
       "snacks                         414500                 1234701"
      ]
     },
     "execution_count": 25,
     "metadata": {},
     "output_type": "execute_result"
    }
   ],
   "source": [
    "# getting the order counts by department for adults with dependants and adults without dependants\n",
    "\n",
    "profile_1_department_crosstab = pd.crosstab(high_activity_customers['department'], high_activity_customers['profile_1'], dropna = False)\n",
    "profile_1_department_crosstab"
   ]
  },
  {
   "cell_type": "code",
   "execution_count": 26,
   "id": "12dc8d04",
   "metadata": {
    "scrolled": true
   },
   "outputs": [
    {
     "data": {
      "image/png": "[encoded data removed]",
      "text/plain": [
       "<Figure size 432x288 with 1 Axes>"
      ]
     },
     "metadata": {
      "needs_background": "light"
     },
     "output_type": "display_data"
    }
   ],
   "source": [
    "# making a bar graph of order counts by department for adults with dependants and adults without dependants\n",
    "profile_1_department_bar = profile_1_department_crosstab.plot(kind='barh')"
   ]
  },
  {
   "cell_type": "code",
   "execution_count": 27,
   "id": "d1aa5009",
   "metadata": {},
   "outputs": [],
   "source": [
    "profile_1_department_bar.figure.savefig(os.path.join(path, '04 Analysis','Visualizations', 'profile_1_department_bar.png'))"
   ]
  },
  {
   "cell_type": "code",
   "execution_count": 28,
   "id": "b6e033e8",
   "metadata": {},
   "outputs": [],
   "source": [
    "profile_1_department_crosstab.to_clipboard()"
   ]
  }
 ],
 "metadata": {
  "kernelspec": {
   "display_name": "Python 3 (ipykernel)",
   "language": "python",
   "name": "python3"
  },
  "language_info": {
   "codemirror_mode": {
    "name": "ipython",
    "version": 3
   },
   "file_extension": ".py",
   "mimetype": "text/x-python",
   "name": "python",
   "nbconvert_exporter": "python",
   "pygments_lexer": "ipython3",
   "version": "3.9.12"
  }
 },
 "nbformat": 4,
 "nbformat_minor": 5
}
