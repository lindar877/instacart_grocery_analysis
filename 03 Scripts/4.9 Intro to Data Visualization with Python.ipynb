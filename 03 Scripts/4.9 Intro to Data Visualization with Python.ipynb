{
 "cells": [
  {
   "cell_type": "markdown",
   "id": "3297bd4a",
   "metadata": {},
   "source": [
    "## Contents\n",
    "\n",
    "01. Creating bar charts\n",
    "02. Creating histograms and scatterplots\n",
    "03. Sampling data\n",
    "04. Creating line charts\n",
    "05. Exporting graphs\n",
    "\n"
   ]
  },
  {
   "cell_type": "markdown",
   "id": "9a7ebb4c",
   "metadata": {},
   "source": [
    "Visualization libraries\n",
    "\n",
    "Seaborn: a library dedicated to visualizations\n",
    "Matplotlib: a plotting library and dependency for seaborn\n",
    "Scipy: a fundamental Python library necessary for visualizations"
   ]
  },
  {
   "cell_type": "markdown",
   "id": "2e792086",
   "metadata": {},
   "source": [
    "To install the visualization libraries, type the command below into your terminal on a Mac \n",
    "\n",
    "conda install seaborn matplotlib scipy "
   ]
  },
  {
   "cell_type": "code",
   "execution_count": 1,
   "id": "2160e4b2",
   "metadata": {},
   "outputs": [],
   "source": [
    "#import libraries \n",
    "\n",
    "import pandas as pd\n",
    "import numpy as np\n",
    "import os\n",
    "import matplotlib.pyplot as plt\n",
    "import seaborn as sns\n",
    "import scipy\n"
   ]
  },
  {
   "cell_type": "code",
   "execution_count": 2,
   "id": "69fdefde",
   "metadata": {
    "scrolled": true
   },
   "outputs": [],
   "source": [
    "#import data\n",
    "\n",
    "path = r'/Users/lindazhang/Instacart Basket Analysis'\n",
    "ords_prods_agg = pd.read_pickle(os.path.join(path, '02 Data', 'Prepared Data', 'orders_products_merged.pkl'))\n",
    "\n"
   ]
  },
  {
   "cell_type": "code",
   "execution_count": 3,
   "id": "c6031d4e",
   "metadata": {},
   "outputs": [
    {
     "data": {
      "text/html": [
       "<div>\n",
       "<style scoped>\n",
       "    .dataframe tbody tr th:only-of-type {\n",
       "        vertical-align: middle;\n",
       "    }\n",
       "\n",
       "    .dataframe tbody tr th {\n",
       "        vertical-align: top;\n",
       "    }\n",
       "\n",
       "    .dataframe thead th {\n",
       "        text-align: right;\n",
       "    }\n",
       "</style>\n",
       "<table border=\"1\" class=\"dataframe\">\n",
       "  <thead>\n",
       "    <tr style=\"text-align: right;\">\n",
       "      <th></th>\n",
       "      <th>order_id</th>\n",
       "      <th>customer_id</th>\n",
       "      <th>order_number</th>\n",
       "      <th>orders_day_of_week</th>\n",
       "      <th>order_hour_of_day</th>\n",
       "      <th>days_since_prior_order</th>\n",
       "      <th>product_id</th>\n",
       "      <th>order_added_to_cart</th>\n",
       "      <th>reordered</th>\n",
       "      <th>product_name</th>\n",
       "      <th>...</th>\n",
       "      <th>busiest_day</th>\n",
       "      <th>busiest_days</th>\n",
       "      <th>period_of_day</th>\n",
       "      <th>busiest_periods</th>\n",
       "      <th>max_order</th>\n",
       "      <th>loyalty_flag</th>\n",
       "      <th>mean_spend</th>\n",
       "      <th>spend_flag</th>\n",
       "      <th>median_days_since_prior_order</th>\n",
       "      <th>customer_frequency</th>\n",
       "    </tr>\n",
       "  </thead>\n",
       "  <tbody>\n",
       "    <tr>\n",
       "      <th>0</th>\n",
       "      <td>2539329</td>\n",
       "      <td>1</td>\n",
       "      <td>1</td>\n",
       "      <td>2</td>\n",
       "      <td>8</td>\n",
       "      <td>NaN</td>\n",
       "      <td>196</td>\n",
       "      <td>1</td>\n",
       "      <td>0</td>\n",
       "      <td>Soda</td>\n",
       "      <td>...</td>\n",
       "      <td>Regularly busy</td>\n",
       "      <td>Regularly busy</td>\n",
       "      <td>6am-11am</td>\n",
       "      <td>Average orders</td>\n",
       "      <td>10</td>\n",
       "      <td>New customer</td>\n",
       "      <td>6.367797</td>\n",
       "      <td>Low spender</td>\n",
       "      <td>20.5</td>\n",
       "      <td>Non-frequent customer</td>\n",
       "    </tr>\n",
       "    <tr>\n",
       "      <th>1</th>\n",
       "      <td>2398795</td>\n",
       "      <td>1</td>\n",
       "      <td>2</td>\n",
       "      <td>3</td>\n",
       "      <td>7</td>\n",
       "      <td>15.0</td>\n",
       "      <td>196</td>\n",
       "      <td>1</td>\n",
       "      <td>1</td>\n",
       "      <td>Soda</td>\n",
       "      <td>...</td>\n",
       "      <td>Regularly busy</td>\n",
       "      <td>Slowest days</td>\n",
       "      <td>6am-11am</td>\n",
       "      <td>Average orders</td>\n",
       "      <td>10</td>\n",
       "      <td>New customer</td>\n",
       "      <td>6.367797</td>\n",
       "      <td>Low spender</td>\n",
       "      <td>20.5</td>\n",
       "      <td>Non-frequent customer</td>\n",
       "    </tr>\n",
       "    <tr>\n",
       "      <th>2</th>\n",
       "      <td>473747</td>\n",
       "      <td>1</td>\n",
       "      <td>3</td>\n",
       "      <td>3</td>\n",
       "      <td>12</td>\n",
       "      <td>21.0</td>\n",
       "      <td>196</td>\n",
       "      <td>1</td>\n",
       "      <td>1</td>\n",
       "      <td>Soda</td>\n",
       "      <td>...</td>\n",
       "      <td>Regularly busy</td>\n",
       "      <td>Slowest days</td>\n",
       "      <td>12pm-5pm</td>\n",
       "      <td>Most orders</td>\n",
       "      <td>10</td>\n",
       "      <td>New customer</td>\n",
       "      <td>6.367797</td>\n",
       "      <td>Low spender</td>\n",
       "      <td>20.5</td>\n",
       "      <td>Non-frequent customer</td>\n",
       "    </tr>\n",
       "    <tr>\n",
       "      <th>3</th>\n",
       "      <td>2254736</td>\n",
       "      <td>1</td>\n",
       "      <td>4</td>\n",
       "      <td>4</td>\n",
       "      <td>7</td>\n",
       "      <td>29.0</td>\n",
       "      <td>196</td>\n",
       "      <td>1</td>\n",
       "      <td>1</td>\n",
       "      <td>Soda</td>\n",
       "      <td>...</td>\n",
       "      <td>Least busy</td>\n",
       "      <td>Slowest days</td>\n",
       "      <td>6am-11am</td>\n",
       "      <td>Average orders</td>\n",
       "      <td>10</td>\n",
       "      <td>New customer</td>\n",
       "      <td>6.367797</td>\n",
       "      <td>Low spender</td>\n",
       "      <td>20.5</td>\n",
       "      <td>Non-frequent customer</td>\n",
       "    </tr>\n",
       "    <tr>\n",
       "      <th>4</th>\n",
       "      <td>431534</td>\n",
       "      <td>1</td>\n",
       "      <td>5</td>\n",
       "      <td>4</td>\n",
       "      <td>15</td>\n",
       "      <td>28.0</td>\n",
       "      <td>196</td>\n",
       "      <td>1</td>\n",
       "      <td>1</td>\n",
       "      <td>Soda</td>\n",
       "      <td>...</td>\n",
       "      <td>Least busy</td>\n",
       "      <td>Slowest days</td>\n",
       "      <td>12pm-5pm</td>\n",
       "      <td>Most orders</td>\n",
       "      <td>10</td>\n",
       "      <td>New customer</td>\n",
       "      <td>6.367797</td>\n",
       "      <td>Low spender</td>\n",
       "      <td>20.5</td>\n",
       "      <td>Non-frequent customer</td>\n",
       "    </tr>\n",
       "  </tbody>\n",
       "</table>\n",
       "<p>5 rows × 24 columns</p>\n",
       "</div>"
      ],
      "text/plain": [
       "   order_id  customer_id  order_number  orders_day_of_week  order_hour_of_day  \\\n",
       "0   2539329            1             1                   2                  8   \n",
       "1   2398795            1             2                   3                  7   \n",
       "2    473747            1             3                   3                 12   \n",
       "3   2254736            1             4                   4                  7   \n",
       "4    431534            1             5                   4                 15   \n",
       "\n",
       "   days_since_prior_order  product_id  order_added_to_cart  reordered  \\\n",
       "0                     NaN         196                    1          0   \n",
       "1                    15.0         196                    1          1   \n",
       "2                    21.0         196                    1          1   \n",
       "3                    29.0         196                    1          1   \n",
       "4                    28.0         196                    1          1   \n",
       "\n",
       "  product_name  ...     busiest_day    busiest_days  period_of_day  \\\n",
       "0         Soda  ...  Regularly busy  Regularly busy       6am-11am   \n",
       "1         Soda  ...  Regularly busy    Slowest days       6am-11am   \n",
       "2         Soda  ...  Regularly busy    Slowest days       12pm-5pm   \n",
       "3         Soda  ...      Least busy    Slowest days       6am-11am   \n",
       "4         Soda  ...      Least busy    Slowest days       12pm-5pm   \n",
       "\n",
       "  busiest_periods max_order  loyalty_flag mean_spend   spend_flag  \\\n",
       "0  Average orders        10  New customer   6.367797  Low spender   \n",
       "1  Average orders        10  New customer   6.367797  Low spender   \n",
       "2     Most orders        10  New customer   6.367797  Low spender   \n",
       "3  Average orders        10  New customer   6.367797  Low spender   \n",
       "4     Most orders        10  New customer   6.367797  Low spender   \n",
       "\n",
       "   median_days_since_prior_order     customer_frequency  \n",
       "0                           20.5  Non-frequent customer  \n",
       "1                           20.5  Non-frequent customer  \n",
       "2                           20.5  Non-frequent customer  \n",
       "3                           20.5  Non-frequent customer  \n",
       "4                           20.5  Non-frequent customer  \n",
       "\n",
       "[5 rows x 24 columns]"
      ]
     },
     "execution_count": 3,
     "metadata": {},
     "output_type": "execute_result"
    }
   ],
   "source": [
    "ords_prods_agg.head()"
   ]
  },
  {
   "cell_type": "markdown",
   "id": "1913c1a4",
   "metadata": {},
   "source": [
    "## 01. Creating bar charts"
   ]
  },
  {
   "cell_type": "code",
   "execution_count": 4,
   "id": "f7cfb899",
   "metadata": {
    "scrolled": false
   },
   "outputs": [
    {
     "data": {
      "text/plain": [
       "<AxesSubplot:>"
      ]
     },
     "execution_count": 4,
     "metadata": {},
     "output_type": "execute_result"
    },
    {
     "data": {
      "image/png": "[encoded data removed]",
      "text/plain": [
       "<Figure size 432x288 with 1 Axes>"
      ]
     },
     "metadata": {
      "needs_background": "light"
     },
     "output_type": "display_data"
    }
   ],
   "source": [
    "ords_prods_agg['orders_day_of_week'].value_counts().plot.bar()"
   ]
  },
  {
   "cell_type": "code",
   "execution_count": 5,
   "id": "5b098f7e",
   "metadata": {
    "scrolled": true
   },
   "outputs": [
    {
     "data": {
      "image/png": "[encoded data removed]",
      "text/plain": [
       "<Figure size 432x288 with 1 Axes>"
      ]
     },
     "metadata": {
      "needs_background": "light"
     },
     "output_type": "display_data"
    }
   ],
   "source": [
    "# If you want to sort the bars in index order\n",
    "\n",
    "bar = ords_prods_agg['orders_day_of_week'].value_counts().sort_index().plot.bar(color = '#399625')\n"
   ]
  },
  {
   "cell_type": "code",
   "execution_count": 6,
   "id": "199a8f3d",
   "metadata": {},
   "outputs": [
    {
     "data": {
      "text/plain": [
       "0    6209410\n",
       "1    5665604\n",
       "2    4217610\n",
       "3    3843929\n",
       "4    3787042\n",
       "5    4209334\n",
       "6    4500101\n",
       "Name: orders_day_of_week, dtype: int64"
      ]
     },
     "execution_count": 6,
     "metadata": {},
     "output_type": "execute_result"
    }
   ],
   "source": [
    "# You can use the same sort function to print frequencies\n",
    "\n",
    "ords_prods_agg['orders_day_of_week'].value_counts().sort_index()"
   ]
  },
  {
   "cell_type": "code",
   "execution_count": 7,
   "id": "1a58422b",
   "metadata": {},
   "outputs": [
    {
     "data": {
      "text/plain": [
       "<AxesSubplot:>"
      ]
     },
     "execution_count": 7,
     "metadata": {},
     "output_type": "execute_result"
    },
    {
     "data": {
      "image/png": "[encoded data removed]",
      "text/plain": [
       "<Figure size 432x288 with 1 Axes>"
      ]
     },
     "metadata": {
      "needs_background": "light"
     },
     "output_type": "display_data"
    }
   ],
   "source": [
    "# Here's how you can change the color of the bars\n",
    "\n",
    "ords_prods_agg['orders_day_of_week'].value_counts().sort_index().plot.bar(color = ['red','orange','yellow','green','blue','purple','pink'])"
   ]
  },
  {
   "cell_type": "markdown",
   "id": "83dee796",
   "metadata": {},
   "source": [
    "## 02. Creating histograms and scatterplots"
   ]
  },
  {
   "cell_type": "code",
   "execution_count": 8,
   "id": "766ebd22",
   "metadata": {},
   "outputs": [
    {
     "data": {
      "text/plain": [
       "<AxesSubplot:ylabel='Frequency'>"
      ]
     },
     "execution_count": 8,
     "metadata": {},
     "output_type": "execute_result"
    },
    {
     "data": {
      "image/png": "[encoded data removed]",
      "text/plain": [
       "<Figure size 432x288 with 1 Axes>"
      ]
     },
     "metadata": {
      "needs_background": "light"
     },
     "output_type": "display_data"
    }
   ],
   "source": [
    "# The bins tells Python how many bars you would like to have\n",
    "\n",
    "ords_prods_agg['prices'].plot.hist(bins = 25, color = '#399625')"
   ]
  },
  {
   "cell_type": "code",
   "execution_count": 9,
   "id": "17c5c4a3",
   "metadata": {},
   "outputs": [
    {
     "data": {
      "text/plain": [
       "count    3.243303e+07\n",
       "mean     1.198133e+01\n",
       "std      4.954401e+02\n",
       "min      1.000000e+00\n",
       "25%      4.200000e+00\n",
       "50%      7.400000e+00\n",
       "75%      1.130000e+01\n",
       "max      9.999900e+04\n",
       "Name: prices, dtype: float64"
      ]
     },
     "execution_count": 9,
     "metadata": {},
     "output_type": "execute_result"
    }
   ],
   "source": [
    "# Use the describe function to see why your histogram looks weird. \n",
    "# It's clear that the max price of 99,999 is throwing off the chart \n",
    "\n",
    "ords_prods_agg['prices'].describe()"
   ]
  },
  {
   "cell_type": "code",
   "execution_count": 10,
   "id": "662ee1ba",
   "metadata": {
    "scrolled": true
   },
   "outputs": [
    {
     "data": {
      "text/plain": [
       "<AxesSubplot:xlabel='prices', ylabel='prices'>"
      ]
     },
     "execution_count": 10,
     "metadata": {},
     "output_type": "execute_result"
    },
    {
     "data": {
      "image/png": "[encoded data removed]",
      "text/plain": [
       "<Figure size 432x288 with 1 Axes>"
      ]
     },
     "metadata": {
      "needs_background": "light"
     },
     "output_type": "display_data"
    }
   ],
   "source": [
    "# You can use a scatter plot to further investigate your data \n",
    "# Scatterplots are created by the scatterplot() function, which is included in the seaborn library (sns)\n",
    "\n",
    "sns.scatterplot(x = 'prices', y = 'prices',data = ords_prods_agg)"
   ]
  },
  {
   "cell_type": "code",
   "execution_count": 11,
   "id": "70105dbe",
   "metadata": {},
   "outputs": [
    {
     "data": {
      "text/html": [
       "<div>\n",
       "<style scoped>\n",
       "    .dataframe tbody tr th:only-of-type {\n",
       "        vertical-align: middle;\n",
       "    }\n",
       "\n",
       "    .dataframe tbody tr th {\n",
       "        vertical-align: top;\n",
       "    }\n",
       "\n",
       "    .dataframe thead th {\n",
       "        text-align: right;\n",
       "    }\n",
       "</style>\n",
       "<table border=\"1\" class=\"dataframe\">\n",
       "  <thead>\n",
       "    <tr style=\"text-align: right;\">\n",
       "      <th></th>\n",
       "      <th>order_id</th>\n",
       "      <th>customer_id</th>\n",
       "      <th>order_number</th>\n",
       "      <th>orders_day_of_week</th>\n",
       "      <th>order_hour_of_day</th>\n",
       "      <th>days_since_prior_order</th>\n",
       "      <th>product_id</th>\n",
       "      <th>order_added_to_cart</th>\n",
       "      <th>reordered</th>\n",
       "      <th>product_name</th>\n",
       "      <th>...</th>\n",
       "      <th>busiest_day</th>\n",
       "      <th>busiest_days</th>\n",
       "      <th>period_of_day</th>\n",
       "      <th>busiest_periods</th>\n",
       "      <th>max_order</th>\n",
       "      <th>loyalty_flag</th>\n",
       "      <th>mean_spend</th>\n",
       "      <th>spend_flag</th>\n",
       "      <th>median_days_since_prior_order</th>\n",
       "      <th>customer_frequency</th>\n",
       "    </tr>\n",
       "  </thead>\n",
       "  <tbody>\n",
       "    <tr>\n",
       "      <th>10030345</th>\n",
       "      <td>912404</td>\n",
       "      <td>17</td>\n",
       "      <td>12</td>\n",
       "      <td>2</td>\n",
       "      <td>14</td>\n",
       "      <td>5.0</td>\n",
       "      <td>21553</td>\n",
       "      <td>5</td>\n",
       "      <td>0</td>\n",
       "      <td>Lowfat 2% Milkfat Cottage Cheese</td>\n",
       "      <td>...</td>\n",
       "      <td>Regularly busy</td>\n",
       "      <td>Regularly busy</td>\n",
       "      <td>12pm-5pm</td>\n",
       "      <td>Most orders</td>\n",
       "      <td>40</td>\n",
       "      <td>Regular customer</td>\n",
       "      <td>108.648299</td>\n",
       "      <td>High spender</td>\n",
       "      <td>5.0</td>\n",
       "      <td>Frequent customer</td>\n",
       "    </tr>\n",
       "    <tr>\n",
       "      <th>10030346</th>\n",
       "      <td>603376</td>\n",
       "      <td>17</td>\n",
       "      <td>22</td>\n",
       "      <td>6</td>\n",
       "      <td>16</td>\n",
       "      <td>4.0</td>\n",
       "      <td>21553</td>\n",
       "      <td>3</td>\n",
       "      <td>1</td>\n",
       "      <td>Lowfat 2% Milkfat Cottage Cheese</td>\n",
       "      <td>...</td>\n",
       "      <td>Regularly busy</td>\n",
       "      <td>Regularly busy</td>\n",
       "      <td>12pm-5pm</td>\n",
       "      <td>Most orders</td>\n",
       "      <td>40</td>\n",
       "      <td>Regular customer</td>\n",
       "      <td>108.648299</td>\n",
       "      <td>High spender</td>\n",
       "      <td>5.0</td>\n",
       "      <td>Frequent customer</td>\n",
       "    </tr>\n",
       "    <tr>\n",
       "      <th>10030347</th>\n",
       "      <td>3264360</td>\n",
       "      <td>135</td>\n",
       "      <td>2</td>\n",
       "      <td>2</td>\n",
       "      <td>21</td>\n",
       "      <td>13.0</td>\n",
       "      <td>21553</td>\n",
       "      <td>6</td>\n",
       "      <td>0</td>\n",
       "      <td>Lowfat 2% Milkfat Cottage Cheese</td>\n",
       "      <td>...</td>\n",
       "      <td>Regularly busy</td>\n",
       "      <td>Regularly busy</td>\n",
       "      <td>6pm-11pm</td>\n",
       "      <td>Average orders</td>\n",
       "      <td>4</td>\n",
       "      <td>New customer</td>\n",
       "      <td>1154.792308</td>\n",
       "      <td>High spender</td>\n",
       "      <td>12.0</td>\n",
       "      <td>Regular customer</td>\n",
       "    </tr>\n",
       "    <tr>\n",
       "      <th>10030348</th>\n",
       "      <td>892534</td>\n",
       "      <td>135</td>\n",
       "      <td>3</td>\n",
       "      <td>0</td>\n",
       "      <td>8</td>\n",
       "      <td>12.0</td>\n",
       "      <td>21553</td>\n",
       "      <td>3</td>\n",
       "      <td>1</td>\n",
       "      <td>Lowfat 2% Milkfat Cottage Cheese</td>\n",
       "      <td>...</td>\n",
       "      <td>Busiest day</td>\n",
       "      <td>Busiest days</td>\n",
       "      <td>6am-11am</td>\n",
       "      <td>Average orders</td>\n",
       "      <td>4</td>\n",
       "      <td>New customer</td>\n",
       "      <td>1154.792308</td>\n",
       "      <td>High spender</td>\n",
       "      <td>12.0</td>\n",
       "      <td>Regular customer</td>\n",
       "    </tr>\n",
       "    <tr>\n",
       "      <th>10030349</th>\n",
       "      <td>229704</td>\n",
       "      <td>342</td>\n",
       "      <td>8</td>\n",
       "      <td>1</td>\n",
       "      <td>19</td>\n",
       "      <td>30.0</td>\n",
       "      <td>21553</td>\n",
       "      <td>9</td>\n",
       "      <td>0</td>\n",
       "      <td>Lowfat 2% Milkfat Cottage Cheese</td>\n",
       "      <td>...</td>\n",
       "      <td>Regularly busy</td>\n",
       "      <td>Busiest days</td>\n",
       "      <td>6pm-11pm</td>\n",
       "      <td>Average orders</td>\n",
       "      <td>16</td>\n",
       "      <td>Regular customer</td>\n",
       "      <td>114.426619</td>\n",
       "      <td>High spender</td>\n",
       "      <td>23.0</td>\n",
       "      <td>Non-frequent customer</td>\n",
       "    </tr>\n",
       "    <tr>\n",
       "      <th>...</th>\n",
       "      <td>...</td>\n",
       "      <td>...</td>\n",
       "      <td>...</td>\n",
       "      <td>...</td>\n",
       "      <td>...</td>\n",
       "      <td>...</td>\n",
       "      <td>...</td>\n",
       "      <td>...</td>\n",
       "      <td>...</td>\n",
       "      <td>...</td>\n",
       "      <td>...</td>\n",
       "      <td>...</td>\n",
       "      <td>...</td>\n",
       "      <td>...</td>\n",
       "      <td>...</td>\n",
       "      <td>...</td>\n",
       "      <td>...</td>\n",
       "      <td>...</td>\n",
       "      <td>...</td>\n",
       "      <td>...</td>\n",
       "      <td>...</td>\n",
       "    </tr>\n",
       "    <tr>\n",
       "      <th>29192190</th>\n",
       "      <td>2249946</td>\n",
       "      <td>204099</td>\n",
       "      <td>29</td>\n",
       "      <td>0</td>\n",
       "      <td>8</td>\n",
       "      <td>4.0</td>\n",
       "      <td>33664</td>\n",
       "      <td>1</td>\n",
       "      <td>0</td>\n",
       "      <td>2 % Reduced Fat  Milk</td>\n",
       "      <td>...</td>\n",
       "      <td>Busiest day</td>\n",
       "      <td>Busiest days</td>\n",
       "      <td>6am-11am</td>\n",
       "      <td>Average orders</td>\n",
       "      <td>39</td>\n",
       "      <td>Regular customer</td>\n",
       "      <td>1106.743956</td>\n",
       "      <td>High spender</td>\n",
       "      <td>4.0</td>\n",
       "      <td>Frequent customer</td>\n",
       "    </tr>\n",
       "    <tr>\n",
       "      <th>29192191</th>\n",
       "      <td>2363282</td>\n",
       "      <td>204099</td>\n",
       "      <td>31</td>\n",
       "      <td>0</td>\n",
       "      <td>9</td>\n",
       "      <td>2.0</td>\n",
       "      <td>33664</td>\n",
       "      <td>1</td>\n",
       "      <td>1</td>\n",
       "      <td>2 % Reduced Fat  Milk</td>\n",
       "      <td>...</td>\n",
       "      <td>Busiest day</td>\n",
       "      <td>Busiest days</td>\n",
       "      <td>6am-11am</td>\n",
       "      <td>Average orders</td>\n",
       "      <td>39</td>\n",
       "      <td>Regular customer</td>\n",
       "      <td>1106.743956</td>\n",
       "      <td>High spender</td>\n",
       "      <td>4.0</td>\n",
       "      <td>Frequent customer</td>\n",
       "    </tr>\n",
       "    <tr>\n",
       "      <th>29192192</th>\n",
       "      <td>3181945</td>\n",
       "      <td>204395</td>\n",
       "      <td>13</td>\n",
       "      <td>3</td>\n",
       "      <td>15</td>\n",
       "      <td>8.0</td>\n",
       "      <td>33664</td>\n",
       "      <td>25</td>\n",
       "      <td>0</td>\n",
       "      <td>2 % Reduced Fat  Milk</td>\n",
       "      <td>...</td>\n",
       "      <td>Regularly busy</td>\n",
       "      <td>Slowest days</td>\n",
       "      <td>12pm-5pm</td>\n",
       "      <td>Most orders</td>\n",
       "      <td>15</td>\n",
       "      <td>Regular customer</td>\n",
       "      <td>451.153540</td>\n",
       "      <td>High spender</td>\n",
       "      <td>5.0</td>\n",
       "      <td>Frequent customer</td>\n",
       "    </tr>\n",
       "    <tr>\n",
       "      <th>29192193</th>\n",
       "      <td>2486215</td>\n",
       "      <td>205227</td>\n",
       "      <td>7</td>\n",
       "      <td>3</td>\n",
       "      <td>20</td>\n",
       "      <td>4.0</td>\n",
       "      <td>33664</td>\n",
       "      <td>8</td>\n",
       "      <td>0</td>\n",
       "      <td>2 % Reduced Fat  Milk</td>\n",
       "      <td>...</td>\n",
       "      <td>Regularly busy</td>\n",
       "      <td>Slowest days</td>\n",
       "      <td>6pm-11pm</td>\n",
       "      <td>Average orders</td>\n",
       "      <td>12</td>\n",
       "      <td>Regular customer</td>\n",
       "      <td>1178.381871</td>\n",
       "      <td>High spender</td>\n",
       "      <td>12.0</td>\n",
       "      <td>Regular customer</td>\n",
       "    </tr>\n",
       "    <tr>\n",
       "      <th>29192194</th>\n",
       "      <td>2232716</td>\n",
       "      <td>205227</td>\n",
       "      <td>10</td>\n",
       "      <td>0</td>\n",
       "      <td>11</td>\n",
       "      <td>4.0</td>\n",
       "      <td>33664</td>\n",
       "      <td>23</td>\n",
       "      <td>1</td>\n",
       "      <td>2 % Reduced Fat  Milk</td>\n",
       "      <td>...</td>\n",
       "      <td>Busiest day</td>\n",
       "      <td>Busiest days</td>\n",
       "      <td>6am-11am</td>\n",
       "      <td>Average orders</td>\n",
       "      <td>12</td>\n",
       "      <td>Regular customer</td>\n",
       "      <td>1178.381871</td>\n",
       "      <td>High spender</td>\n",
       "      <td>12.0</td>\n",
       "      <td>Regular customer</td>\n",
       "    </tr>\n",
       "  </tbody>\n",
       "</table>\n",
       "<p>5127 rows × 24 columns</p>\n",
       "</div>"
      ],
      "text/plain": [
       "          order_id  customer_id  order_number  orders_day_of_week  \\\n",
       "10030345    912404           17            12                   2   \n",
       "10030346    603376           17            22                   6   \n",
       "10030347   3264360          135             2                   2   \n",
       "10030348    892534          135             3                   0   \n",
       "10030349    229704          342             8                   1   \n",
       "...            ...          ...           ...                 ...   \n",
       "29192190   2249946       204099            29                   0   \n",
       "29192191   2363282       204099            31                   0   \n",
       "29192192   3181945       204395            13                   3   \n",
       "29192193   2486215       205227             7                   3   \n",
       "29192194   2232716       205227            10                   0   \n",
       "\n",
       "          order_hour_of_day  days_since_prior_order  product_id  \\\n",
       "10030345                 14                     5.0       21553   \n",
       "10030346                 16                     4.0       21553   \n",
       "10030347                 21                    13.0       21553   \n",
       "10030348                  8                    12.0       21553   \n",
       "10030349                 19                    30.0       21553   \n",
       "...                     ...                     ...         ...   \n",
       "29192190                  8                     4.0       33664   \n",
       "29192191                  9                     2.0       33664   \n",
       "29192192                 15                     8.0       33664   \n",
       "29192193                 20                     4.0       33664   \n",
       "29192194                 11                     4.0       33664   \n",
       "\n",
       "          order_added_to_cart  reordered                      product_name  \\\n",
       "10030345                    5          0  Lowfat 2% Milkfat Cottage Cheese   \n",
       "10030346                    3          1  Lowfat 2% Milkfat Cottage Cheese   \n",
       "10030347                    6          0  Lowfat 2% Milkfat Cottage Cheese   \n",
       "10030348                    3          1  Lowfat 2% Milkfat Cottage Cheese   \n",
       "10030349                    9          0  Lowfat 2% Milkfat Cottage Cheese   \n",
       "...                       ...        ...                               ...   \n",
       "29192190                    1          0             2 % Reduced Fat  Milk   \n",
       "29192191                    1          1             2 % Reduced Fat  Milk   \n",
       "29192192                   25          0             2 % Reduced Fat  Milk   \n",
       "29192193                    8          0             2 % Reduced Fat  Milk   \n",
       "29192194                   23          1             2 % Reduced Fat  Milk   \n",
       "\n",
       "          ...     busiest_day    busiest_days  period_of_day busiest_periods  \\\n",
       "10030345  ...  Regularly busy  Regularly busy       12pm-5pm     Most orders   \n",
       "10030346  ...  Regularly busy  Regularly busy       12pm-5pm     Most orders   \n",
       "10030347  ...  Regularly busy  Regularly busy       6pm-11pm  Average orders   \n",
       "10030348  ...     Busiest day    Busiest days       6am-11am  Average orders   \n",
       "10030349  ...  Regularly busy    Busiest days       6pm-11pm  Average orders   \n",
       "...       ...             ...             ...            ...             ...   \n",
       "29192190  ...     Busiest day    Busiest days       6am-11am  Average orders   \n",
       "29192191  ...     Busiest day    Busiest days       6am-11am  Average orders   \n",
       "29192192  ...  Regularly busy    Slowest days       12pm-5pm     Most orders   \n",
       "29192193  ...  Regularly busy    Slowest days       6pm-11pm  Average orders   \n",
       "29192194  ...     Busiest day    Busiest days       6am-11am  Average orders   \n",
       "\n",
       "         max_order      loyalty_flag   mean_spend    spend_flag  \\\n",
       "10030345        40  Regular customer   108.648299  High spender   \n",
       "10030346        40  Regular customer   108.648299  High spender   \n",
       "10030347         4      New customer  1154.792308  High spender   \n",
       "10030348         4      New customer  1154.792308  High spender   \n",
       "10030349        16  Regular customer   114.426619  High spender   \n",
       "...            ...               ...          ...           ...   \n",
       "29192190        39  Regular customer  1106.743956  High spender   \n",
       "29192191        39  Regular customer  1106.743956  High spender   \n",
       "29192192        15  Regular customer   451.153540  High spender   \n",
       "29192193        12  Regular customer  1178.381871  High spender   \n",
       "29192194        12  Regular customer  1178.381871  High spender   \n",
       "\n",
       "          median_days_since_prior_order     customer_frequency  \n",
       "10030345                            5.0      Frequent customer  \n",
       "10030346                            5.0      Frequent customer  \n",
       "10030347                           12.0       Regular customer  \n",
       "10030348                           12.0       Regular customer  \n",
       "10030349                           23.0  Non-frequent customer  \n",
       "...                                 ...                    ...  \n",
       "29192190                            4.0      Frequent customer  \n",
       "29192191                            4.0      Frequent customer  \n",
       "29192192                            5.0      Frequent customer  \n",
       "29192193                           12.0       Regular customer  \n",
       "29192194                           12.0       Regular customer  \n",
       "\n",
       "[5127 rows x 24 columns]"
      ]
     },
     "execution_count": 11,
     "metadata": {},
     "output_type": "execute_result"
    }
   ],
   "source": [
    "# You can try to find the products that are above the normal price of supermarket items (say $100)\n",
    "# Looks like there are 5127 products with prices greater than $100\n",
    "\n",
    "ords_prods_agg.loc[ords_prods_agg['prices'] > 100]\n"
   ]
  },
  {
   "cell_type": "code",
   "execution_count": 12,
   "id": "7cc7d52a",
   "metadata": {},
   "outputs": [],
   "source": [
    "# To get a better histogram, let's remove the outliers for now \n",
    "# The command below looks for values above 100 within the “prices” column and assigns them a value. \n",
    "#In this case, that new value is np.nan\n",
    "\n",
    "ords_prods_agg.loc[ords_prods_agg ['prices'] >100, 'prices'] = np.nan"
   ]
  },
  {
   "cell_type": "code",
   "execution_count": 13,
   "id": "c2a3bd95",
   "metadata": {},
   "outputs": [
    {
     "data": {
      "text/plain": [
       "25.0"
      ]
     },
     "execution_count": 13,
     "metadata": {},
     "output_type": "execute_result"
    }
   ],
   "source": [
    "# To check that the command worked, you can check for max price. \n",
    "\n",
    "ords_prods_agg['prices'].max()"
   ]
  },
  {
   "cell_type": "code",
   "execution_count": 14,
   "id": "67df1030",
   "metadata": {},
   "outputs": [
    {
     "data": {
      "text/plain": [
       "<AxesSubplot:ylabel='Frequency'>"
      ]
     },
     "execution_count": 14,
     "metadata": {},
     "output_type": "execute_result"
    },
    {
     "data": {
      "image/png": "[encoded data removed]",
      "text/plain": [
       "<Figure size 432x288 with 1 Axes>"
      ]
     },
     "metadata": {
      "needs_background": "light"
     },
     "output_type": "display_data"
    }
   ],
   "source": [
    "# Histogram after data clean\n",
    "\n",
    "ords_prods_agg['prices'].plot.hist(bins = 25,color = '#399625')"
   ]
  },
  {
   "cell_type": "code",
   "execution_count": 15,
   "id": "d058395c",
   "metadata": {
    "scrolled": false
   },
   "outputs": [
    {
     "data": {
      "image/png": "[encoded data removed]",
      "text/plain": [
       "<Figure size 432x288 with 1 Axes>"
      ]
     },
     "metadata": {
      "needs_background": "light"
     },
     "output_type": "display_data"
    }
   ],
   "source": [
    "# Increase granularity\n",
    "\n",
    "hist = ords_prods_agg['prices'].plot.hist(bins = 25,color = '#399625')"
   ]
  },
  {
   "cell_type": "markdown",
   "id": "90069b11",
   "metadata": {},
   "source": [
    "## 03. Sampling data\n"
   ]
  },
  {
   "cell_type": "markdown",
   "id": "fa54b20a",
   "metadata": {},
   "source": [
    "Let's say you want to do a 70/30 split where 30 percent sample would statistically resemble the 70 percent sample but contain less rows.\n",
    "\n",
    "Creating these samples requires a list of random floating numbers between 0 and 1 (with 1 representing 100 percent of the dataframe) that’s as long as the length of the dataframe. Each row in the dataframe is “assigned” one of these numbers, and then the numbers are compared to a value. In this case, the value is 0.7, since you want a 70/30 split. Any rows whose assigned number is less than 0.7 are placed in one sample, while any rows whose assigned number is greater than 0.7 are placed in the other, effectively splitting the dataframe into two dataframes at a 70/30 ratio."
   ]
  },
  {
   "cell_type": "code",
   "execution_count": 16,
   "id": "9a8f2127",
   "metadata": {},
   "outputs": [],
   "source": [
    "# Create a list holding True/False values to the test np.random.rand(len(ords_prods_agg)) <= 0.7\n",
    "np.random.seed(4)\n",
    "dev = np.random.rand(len(ords_prods_agg)) <= 0.7"
   ]
  },
  {
   "cell_type": "markdown",
   "id": "4e82e519",
   "metadata": {},
   "source": [
    "1. In the first line of the command, you set the “seed.” This “seed” represents a random but reproducible pattern—Python will always give you the same set of random numbers (in this case, seed “4”). The value you put inside the seed doesn’t actually matter. Whether you use 1, 52, 179, or 4, all you’re doing is ensuring that the random distribution you’re creating is reproducible\n",
    "\n",
    "2. In the second line of the command, you create a new list called dev. This will be what stores your boolean values—you’ll be getting an output of True or False for every value based on whether it’s less than or equal to 0.7.\n",
    "\n",
    "3. The np.random.rand() function is what creates a list of random floating numbers between 0 and 1. The np at the beginning stands for the NumPy library, the random in the middle is a function that creates random numbers, and the rand at the end is a function that ensures the random numbers generated by random follow the uniform distribution. Uniform distribution simply means that there should be an equal chance for every number between 0 and 1 to occur in the distribution.\n",
    "\n",
    "4. len() produces a value that represents the length of whatever you put inside it. By passing your dataframe, you’ll receive an output of 32,404,859, which is how many rows are in your dataframe."
   ]
  },
  {
   "cell_type": "code",
   "execution_count": 17,
   "id": "8a238dc7",
   "metadata": {
    "scrolled": true
   },
   "outputs": [
    {
     "data": {
      "text/plain": [
       "array([0.92399799, 0.11106333, 0.52502601, 0.73987585, 0.08487082,\n",
       "       0.80157589, 0.33861972, 0.85202624, 0.71023929, 0.28256732])"
      ]
     },
     "execution_count": 17,
     "metadata": {},
     "output_type": "execute_result"
    }
   ],
   "source": [
    "# Simple example of np.random.rand()\n",
    "# As you can see, the np.random.rand() function produces a list of random numbers between 0 and 1. Here, the argument is 10, so 10 random numbers are produced. \n",
    "# In the code above, the argument given is the length of your dataframe, so 32,434,212 numbers are produced.\n",
    "\n",
    "np.random.rand(10)"
   ]
  },
  {
   "cell_type": "code",
   "execution_count": 18,
   "id": "c3c49f19",
   "metadata": {},
   "outputs": [],
   "source": [
    "# Store 70% of the sample in the dataframe big. \n",
    "\n",
    "big = ords_prods_agg[dev]\n",
    "\n",
    "# Store 30% of the sample in the dataframe small.\n",
    "#The tilde negates the argument and basically yells you to store everything that is not dev, or False. \n",
    "\n",
    "small = ords_prods_agg[~dev]"
   ]
  },
  {
   "cell_type": "code",
   "execution_count": 19,
   "id": "c498c648",
   "metadata": {},
   "outputs": [
    {
     "data": {
      "text/plain": [
       "32433030"
      ]
     },
     "execution_count": 19,
     "metadata": {},
     "output_type": "execute_result"
    }
   ],
   "source": [
    "# check that the subsetting was run correctly\n",
    "\n",
    "len(big)+ len(small)"
   ]
  },
  {
   "cell_type": "markdown",
   "id": "47fb5521",
   "metadata": {},
   "source": [
    "## 04. Creating line charts"
   ]
  },
  {
   "cell_type": "code",
   "execution_count": 20,
   "id": "34e42b2e",
   "metadata": {},
   "outputs": [],
   "source": [
    "df_2 = small[['orders_day_of_week','prices']]"
   ]
  },
  {
   "cell_type": "code",
   "execution_count": 21,
   "id": "b8b75fcc",
   "metadata": {},
   "outputs": [
    {
     "data": {
      "image/png": "[encoded data removed]",
      "text/plain": [
       "<Figure size 432x288 with 1 Axes>"
      ]
     },
     "metadata": {
      "needs_background": "light"
     },
     "output_type": "display_data"
    }
   ],
   "source": [
    "# Create a line chart from df_2 and place day of the week on the x axis and prices on the y axis \n",
    "\n",
    "line = sns.lineplot(data = df_2, x = 'orders_day_of_week',y = 'prices')\n"
   ]
  },
  {
   "cell_type": "markdown",
   "id": "7f9fc6b5",
   "metadata": {},
   "source": [
    "The translucent blue bands around the line are called error bands, and they represent the chart’s confidence intervals. In other words, if this line were a prediction, there would be a 95 percent probability that the predicted value would fall within the area of the error bands."
   ]
  },
  {
   "cell_type": "markdown",
   "id": "e87c1b7f",
   "metadata": {},
   "source": [
    "## 05. Exporting graphs"
   ]
  },
  {
   "cell_type": "code",
   "execution_count": 22,
   "id": "eebd0528",
   "metadata": {},
   "outputs": [],
   "source": [
    "bar.figure.savefig(os.path.join(path, '04 Analysis','Visualizations', 'bar_orders_dow.png'))"
   ]
  },
  {
   "cell_type": "code",
   "execution_count": 23,
   "id": "0303eecb",
   "metadata": {},
   "outputs": [],
   "source": [
    "hist.figure.savefig(os.path.join(path, '04 Analysis','Visualizations', 'hist_prices.png'))"
   ]
  },
  {
   "cell_type": "code",
   "execution_count": 24,
   "id": "da812cfe",
   "metadata": {},
   "outputs": [],
   "source": [
    "line.figure.savefig(os.path.join(path, '04 Analysis','Visualizations', 'line_dow_and_prices.png'))"
   ]
  },
  {
   "cell_type": "code",
   "execution_count": null,
   "id": "920b16e5",
   "metadata": {},
   "outputs": [],
   "source": []
  }
 ],
 "metadata": {
  "kernelspec": {
   "display_name": "Python 3 (ipykernel)",
   "language": "python",
   "name": "python3"
  },
  "language_info": {
   "codemirror_mode": {
    "name": "ipython",
    "version": 3
   },
   "file_extension": ".py",
   "mimetype": "text/x-python",
   "name": "python",
   "nbconvert_exporter": "python",
   "pygments_lexer": "ipython3",
   "version": "3.9.12"
  }
 },
 "nbformat": 4,
 "nbformat_minor": 5
}
