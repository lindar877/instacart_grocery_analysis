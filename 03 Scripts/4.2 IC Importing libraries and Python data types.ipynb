{
 "cells": [
  {
   "cell_type": "markdown",
   "id": "7386878d",
   "metadata": {},
   "source": [
    "## Contents \n",
    "\n",
    "01. Importing libraries\n",
    "02. Data Types\n",
    "03. Concatenating strings"
   ]
  },
  {
   "cell_type": "markdown",
   "id": "484d2211-a8a9-464a-9212-fb3506251b39",
   "metadata": {},
   "source": [
    "## 01.Importing libraries"
   ]
  },
  {
   "cell_type": "code",
   "execution_count": 1,
   "id": "cdc14b5a-1997-4a2e-80e6-c5215135b098",
   "metadata": {},
   "outputs": [],
   "source": [
    "# Import libraries\n",
    "\n",
    "import pandas as pd\n",
    "import numpy as np\n",
    "import os"
   ]
  },
  {
   "cell_type": "markdown",
   "id": "25cb3e8b-028b-4aab-9dc4-34d9b96918f1",
   "metadata": {},
   "source": [
    "## 02.Data types\n"
   ]
  },
  {
   "cell_type": "code",
   "execution_count": 2,
   "id": "6d6cabb5-7f3e-4bcb-bc4e-2ff3b7d0260b",
   "metadata": {},
   "outputs": [
    {
     "data": {
      "text/plain": [
       "100"
      ]
     },
     "execution_count": 2,
     "metadata": {},
     "output_type": "execute_result"
    }
   ],
   "source": [
    "# 3 different ways to get 100\n",
    "\n",
    "x=10 \n",
    "y=2\n",
    "\n",
    "x**y\n"
   ]
  },
  {
   "cell_type": "code",
   "execution_count": 3,
   "id": "08705468-c6e7-49cf-9941-62538aa83843",
   "metadata": {},
   "outputs": [
    {
     "data": {
      "text/plain": [
       "100"
      ]
     },
     "execution_count": 3,
     "metadata": {},
     "output_type": "execute_result"
    }
   ],
   "source": [
    "x = 50\n",
    "y = 2\n",
    "\n",
    "x*y"
   ]
  },
  {
   "cell_type": "code",
   "execution_count": 4,
   "id": "4c8bc716-c147-4797-b0fa-0c71666bb127",
   "metadata": {},
   "outputs": [
    {
     "data": {
      "text/plain": [
       "100"
      ]
     },
     "execution_count": 4,
     "metadata": {},
     "output_type": "execute_result"
    }
   ],
   "source": [
    "x = 150\n",
    "y = 50\n",
    "\n",
    "x-y\n"
   ]
  },
  {
   "cell_type": "code",
   "execution_count": 5,
   "id": "61e44f84-c675-4fa0-97d8-d3f906f97244",
   "metadata": {},
   "outputs": [
    {
     "data": {
      "text/plain": [
       "1.6085106382978722"
      ]
     },
     "execution_count": 5,
     "metadata": {},
     "output_type": "execute_result"
    }
   ],
   "source": [
    "# Dividing 2 floating numbers \n",
    "\n",
    "x = 7.56\n",
    "y = 4.7\n",
    "\n",
    "x/y"
   ]
  },
  {
   "cell_type": "markdown",
   "id": "7fb97b98",
   "metadata": {},
   "source": [
    "## 03. Concatenating strings"
   ]
  },
  {
   "cell_type": "code",
   "execution_count": 6,
   "id": "c85745cb-e084-4383-b343-12204945088d",
   "metadata": {},
   "outputs": [
    {
     "data": {
      "text/plain": [
       "'Manhattan'"
      ]
     },
     "execution_count": 6,
     "metadata": {},
     "output_type": "execute_result"
    }
   ],
   "source": [
    "# Concatenating strings \n",
    "\n",
    "'Man' + 'hat' + 'tan'"
   ]
  },
  {
   "cell_type": "code",
   "execution_count": 7,
   "id": "21223dc0-7ed6-4d40-997f-fbb4dc630a53",
   "metadata": {},
   "outputs": [
    {
     "data": {
      "text/plain": [
       "'Python is cool. I am learning to code.'"
      ]
     },
     "execution_count": 7,
     "metadata": {},
     "output_type": "execute_result"
    }
   ],
   "source": [
    "'Python ' + 'is' + ' cool.' +' I ' + 'am ' + 'learning ' + 'to ' + 'code.'\n"
   ]
  },
  {
   "cell_type": "code",
   "execution_count": 8,
   "id": "b8a0fc17-13d1-4011-a8aa-33dbe9861617",
   "metadata": {},
   "outputs": [
    {
     "data": {
      "text/plain": [
       "False"
      ]
     },
     "execution_count": 8,
     "metadata": {},
     "output_type": "execute_result"
    }
   ],
   "source": [
    "x=2\n",
    "y=5\n",
    "\n",
    "x==y"
   ]
  },
  {
   "cell_type": "code",
   "execution_count": 9,
   "id": "cd9743b1-0a98-46bc-95ea-50148ededad2",
   "metadata": {},
   "outputs": [
    {
     "data": {
      "text/plain": [
       "str"
      ]
     },
     "execution_count": 9,
     "metadata": {},
     "output_type": "execute_result"
    }
   ],
   "source": [
    "type('hello')"
   ]
  },
  {
   "cell_type": "code",
   "execution_count": 10,
   "id": "09617fdf-3336-4d47-9439-ce2170196004",
   "metadata": {},
   "outputs": [
    {
     "data": {
      "text/plain": [
       "bool"
      ]
     },
     "execution_count": 10,
     "metadata": {},
     "output_type": "execute_result"
    }
   ],
   "source": [
    "type(True)"
   ]
  },
  {
   "cell_type": "code",
   "execution_count": 11,
   "id": "ebe6e1b7-5628-42ce-bde7-c0c107d851e0",
   "metadata": {},
   "outputs": [
    {
     "data": {
      "text/plain": [
       "'HelloHelloHelloHelloHelloHelloHelloHelloHelloHelloHelloHelloHelloHelloHelloHelloHelloHelloHelloHelloHelloHelloHelloHelloHelloHelloHelloHelloHelloHelloHelloHelloHelloHelloHelloHelloHelloHelloHelloHelloHelloHelloHelloHelloHelloHelloHelloHelloHelloHelloHelloHelloHelloHelloHelloHelloHelloHelloHelloHelloHelloHelloHelloHelloHelloHelloHelloHelloHelloHelloHelloHelloHelloHelloHelloHelloHelloHelloHelloHelloHelloHelloHelloHelloHelloHelloHelloHelloHelloHelloHelloHelloHelloHelloHelloHelloHelloHelloHelloHello'"
      ]
     },
     "execution_count": 11,
     "metadata": {},
     "output_type": "execute_result"
    }
   ],
   "source": [
    "x= 'Hello'\n",
    "y= 100\n",
    "\n",
    "x*y"
   ]
  },
  {
   "cell_type": "code",
   "execution_count": null,
   "id": "18d7c24e-2faf-44a7-b338-164659bb3cad",
   "metadata": {},
   "outputs": [],
   "source": []
  }
 ],
 "metadata": {
  "kernelspec": {
   "display_name": "Python 3 (ipykernel)",
   "language": "python",
   "name": "python3"
  },
  "language_info": {
   "codemirror_mode": {
    "name": "ipython",
    "version": 3
   },
   "file_extension": ".py",
   "mimetype": "text/x-python",
   "name": "python",
   "nbconvert_exporter": "python",
   "pygments_lexer": "ipython3",
   "version": "3.9.12"
  }
 },
 "nbformat": 4,
 "nbformat_minor": 5
}
